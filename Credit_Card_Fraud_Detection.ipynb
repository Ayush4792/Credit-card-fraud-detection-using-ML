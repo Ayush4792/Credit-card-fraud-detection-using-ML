{
  "cells": [
    {
      "cell_type": "markdown",
      "metadata": {
        "id": "view-in-github",
        "colab_type": "text"
      },
      "source": [
        "<a href=\"https://colab.research.google.com/github/Ayush4792/Ay/blob/main/Credit_Card_Fraud_Detection.ipynb\" target=\"_parent\"><img src=\"https://colab.research.google.com/assets/colab-badge.svg\" alt=\"Open In Colab\"/></a>"
      ]
    },
    {
      "cell_type": "markdown",
      "metadata": {
        "id": "TDnoEQTWStTz"
      },
      "source": [
        "Importing the Dependencies"
      ]
    },
    {
      "cell_type": "code",
      "execution_count": null,
      "metadata": {
        "id": "hlNfrSC1PGfZ"
      },
      "outputs": [],
      "source": [
        "import numpy as np\n",
        "import pandas as pd\n",
        "from sklearn.model_selection import train_test_split\n",
        "from sklearn.linear_model import LogisticRegression\n",
        "from sklearn.metrics import accuracy_score"
      ]
    },
    {
      "cell_type": "code",
      "execution_count": null,
      "metadata": {
        "colab": {
          "base_uri": "https://localhost:8080/",
          "height": 250
        },
        "id": "W0CTsNioTKnJ",
        "outputId": "fdf5cd22-77b6-413e-f1d9-1743b504a7d8"
      },
      "outputs": [
        {
          "output_type": "error",
          "ename": "ParserError",
          "evalue": "ignored",
          "traceback": [
            "\u001b[0;31m---------------------------------------------------------------------------\u001b[0m",
            "\u001b[0;31mParserError\u001b[0m                               Traceback (most recent call last)",
            "\u001b[0;32m<ipython-input-9-aa5d27b526e2>\u001b[0m in \u001b[0;36m<module>\u001b[0;34m\u001b[0m\n\u001b[1;32m      1\u001b[0m \u001b[0;31m# loading the dataset to a Pandas DataFrame\u001b[0m\u001b[0;34m\u001b[0m\u001b[0;34m\u001b[0m\u001b[0;34m\u001b[0m\u001b[0m\n\u001b[0;32m----> 2\u001b[0;31m \u001b[0mcredit_card_data\u001b[0m \u001b[0;34m=\u001b[0m \u001b[0mpd\u001b[0m\u001b[0;34m.\u001b[0m\u001b[0mread_csv\u001b[0m\u001b[0;34m(\u001b[0m\u001b[0;34m'/content/creditcard.csv'\u001b[0m\u001b[0;34m)\u001b[0m\u001b[0;34m\u001b[0m\u001b[0;34m\u001b[0m\u001b[0m\n\u001b[0m",
            "\u001b[0;32m/usr/local/lib/python3.8/dist-packages/pandas/util/_decorators.py\u001b[0m in \u001b[0;36mwrapper\u001b[0;34m(*args, **kwargs)\u001b[0m\n\u001b[1;32m    309\u001b[0m                     \u001b[0mstacklevel\u001b[0m\u001b[0;34m=\u001b[0m\u001b[0mstacklevel\u001b[0m\u001b[0;34m,\u001b[0m\u001b[0;34m\u001b[0m\u001b[0;34m\u001b[0m\u001b[0m\n\u001b[1;32m    310\u001b[0m                 )\n\u001b[0;32m--> 311\u001b[0;31m             \u001b[0;32mreturn\u001b[0m \u001b[0mfunc\u001b[0m\u001b[0;34m(\u001b[0m\u001b[0;34m*\u001b[0m\u001b[0margs\u001b[0m\u001b[0;34m,\u001b[0m \u001b[0;34m**\u001b[0m\u001b[0mkwargs\u001b[0m\u001b[0;34m)\u001b[0m\u001b[0;34m\u001b[0m\u001b[0;34m\u001b[0m\u001b[0m\n\u001b[0m\u001b[1;32m    312\u001b[0m \u001b[0;34m\u001b[0m\u001b[0m\n\u001b[1;32m    313\u001b[0m         \u001b[0;32mreturn\u001b[0m \u001b[0mwrapper\u001b[0m\u001b[0;34m\u001b[0m\u001b[0;34m\u001b[0m\u001b[0m\n",
            "\u001b[0;32m/usr/local/lib/python3.8/dist-packages/pandas/io/parsers/readers.py\u001b[0m in \u001b[0;36mread_csv\u001b[0;34m(filepath_or_buffer, sep, delimiter, header, names, index_col, usecols, squeeze, prefix, mangle_dupe_cols, dtype, engine, converters, true_values, false_values, skipinitialspace, skiprows, skipfooter, nrows, na_values, keep_default_na, na_filter, verbose, skip_blank_lines, parse_dates, infer_datetime_format, keep_date_col, date_parser, dayfirst, cache_dates, iterator, chunksize, compression, thousands, decimal, lineterminator, quotechar, quoting, doublequote, escapechar, comment, encoding, encoding_errors, dialect, error_bad_lines, warn_bad_lines, on_bad_lines, delim_whitespace, low_memory, memory_map, float_precision, storage_options)\u001b[0m\n\u001b[1;32m    584\u001b[0m     \u001b[0mkwds\u001b[0m\u001b[0;34m.\u001b[0m\u001b[0mupdate\u001b[0m\u001b[0;34m(\u001b[0m\u001b[0mkwds_defaults\u001b[0m\u001b[0;34m)\u001b[0m\u001b[0;34m\u001b[0m\u001b[0;34m\u001b[0m\u001b[0m\n\u001b[1;32m    585\u001b[0m \u001b[0;34m\u001b[0m\u001b[0m\n\u001b[0;32m--> 586\u001b[0;31m     \u001b[0;32mreturn\u001b[0m \u001b[0m_read\u001b[0m\u001b[0;34m(\u001b[0m\u001b[0mfilepath_or_buffer\u001b[0m\u001b[0;34m,\u001b[0m \u001b[0mkwds\u001b[0m\u001b[0;34m)\u001b[0m\u001b[0;34m\u001b[0m\u001b[0;34m\u001b[0m\u001b[0m\n\u001b[0m\u001b[1;32m    587\u001b[0m \u001b[0;34m\u001b[0m\u001b[0m\n\u001b[1;32m    588\u001b[0m \u001b[0;34m\u001b[0m\u001b[0m\n",
            "\u001b[0;32m/usr/local/lib/python3.8/dist-packages/pandas/io/parsers/readers.py\u001b[0m in \u001b[0;36m_read\u001b[0;34m(filepath_or_buffer, kwds)\u001b[0m\n\u001b[1;32m    486\u001b[0m \u001b[0;34m\u001b[0m\u001b[0m\n\u001b[1;32m    487\u001b[0m     \u001b[0;32mwith\u001b[0m \u001b[0mparser\u001b[0m\u001b[0;34m:\u001b[0m\u001b[0;34m\u001b[0m\u001b[0;34m\u001b[0m\u001b[0m\n\u001b[0;32m--> 488\u001b[0;31m         \u001b[0;32mreturn\u001b[0m \u001b[0mparser\u001b[0m\u001b[0;34m.\u001b[0m\u001b[0mread\u001b[0m\u001b[0;34m(\u001b[0m\u001b[0mnrows\u001b[0m\u001b[0;34m)\u001b[0m\u001b[0;34m\u001b[0m\u001b[0;34m\u001b[0m\u001b[0m\n\u001b[0m\u001b[1;32m    489\u001b[0m \u001b[0;34m\u001b[0m\u001b[0m\n\u001b[1;32m    490\u001b[0m \u001b[0;34m\u001b[0m\u001b[0m\n",
            "\u001b[0;32m/usr/local/lib/python3.8/dist-packages/pandas/io/parsers/readers.py\u001b[0m in \u001b[0;36mread\u001b[0;34m(self, nrows)\u001b[0m\n\u001b[1;32m   1045\u001b[0m     \u001b[0;32mdef\u001b[0m \u001b[0mread\u001b[0m\u001b[0;34m(\u001b[0m\u001b[0mself\u001b[0m\u001b[0;34m,\u001b[0m \u001b[0mnrows\u001b[0m\u001b[0;34m=\u001b[0m\u001b[0;32mNone\u001b[0m\u001b[0;34m)\u001b[0m\u001b[0;34m:\u001b[0m\u001b[0;34m\u001b[0m\u001b[0;34m\u001b[0m\u001b[0m\n\u001b[1;32m   1046\u001b[0m         \u001b[0mnrows\u001b[0m \u001b[0;34m=\u001b[0m \u001b[0mvalidate_integer\u001b[0m\u001b[0;34m(\u001b[0m\u001b[0;34m\"nrows\"\u001b[0m\u001b[0;34m,\u001b[0m \u001b[0mnrows\u001b[0m\u001b[0;34m)\u001b[0m\u001b[0;34m\u001b[0m\u001b[0;34m\u001b[0m\u001b[0m\n\u001b[0;32m-> 1047\u001b[0;31m         \u001b[0mindex\u001b[0m\u001b[0;34m,\u001b[0m \u001b[0mcolumns\u001b[0m\u001b[0;34m,\u001b[0m \u001b[0mcol_dict\u001b[0m \u001b[0;34m=\u001b[0m \u001b[0mself\u001b[0m\u001b[0;34m.\u001b[0m\u001b[0m_engine\u001b[0m\u001b[0;34m.\u001b[0m\u001b[0mread\u001b[0m\u001b[0;34m(\u001b[0m\u001b[0mnrows\u001b[0m\u001b[0;34m)\u001b[0m\u001b[0;34m\u001b[0m\u001b[0;34m\u001b[0m\u001b[0m\n\u001b[0m\u001b[1;32m   1048\u001b[0m \u001b[0;34m\u001b[0m\u001b[0m\n\u001b[1;32m   1049\u001b[0m         \u001b[0;32mif\u001b[0m \u001b[0mindex\u001b[0m \u001b[0;32mis\u001b[0m \u001b[0;32mNone\u001b[0m\u001b[0;34m:\u001b[0m\u001b[0;34m\u001b[0m\u001b[0;34m\u001b[0m\u001b[0m\n",
            "\u001b[0;32m/usr/local/lib/python3.8/dist-packages/pandas/io/parsers/c_parser_wrapper.py\u001b[0m in \u001b[0;36mread\u001b[0;34m(self, nrows)\u001b[0m\n\u001b[1;32m    222\u001b[0m         \u001b[0;32mtry\u001b[0m\u001b[0;34m:\u001b[0m\u001b[0;34m\u001b[0m\u001b[0;34m\u001b[0m\u001b[0m\n\u001b[1;32m    223\u001b[0m             \u001b[0;32mif\u001b[0m \u001b[0mself\u001b[0m\u001b[0;34m.\u001b[0m\u001b[0mlow_memory\u001b[0m\u001b[0;34m:\u001b[0m\u001b[0;34m\u001b[0m\u001b[0;34m\u001b[0m\u001b[0m\n\u001b[0;32m--> 224\u001b[0;31m                 \u001b[0mchunks\u001b[0m \u001b[0;34m=\u001b[0m \u001b[0mself\u001b[0m\u001b[0;34m.\u001b[0m\u001b[0m_reader\u001b[0m\u001b[0;34m.\u001b[0m\u001b[0mread_low_memory\u001b[0m\u001b[0;34m(\u001b[0m\u001b[0mnrows\u001b[0m\u001b[0;34m)\u001b[0m\u001b[0;34m\u001b[0m\u001b[0;34m\u001b[0m\u001b[0m\n\u001b[0m\u001b[1;32m    225\u001b[0m                 \u001b[0;31m# destructive to chunks\u001b[0m\u001b[0;34m\u001b[0m\u001b[0;34m\u001b[0m\u001b[0;34m\u001b[0m\u001b[0m\n\u001b[1;32m    226\u001b[0m                 \u001b[0mdata\u001b[0m \u001b[0;34m=\u001b[0m \u001b[0m_concatenate_chunks\u001b[0m\u001b[0;34m(\u001b[0m\u001b[0mchunks\u001b[0m\u001b[0;34m)\u001b[0m\u001b[0;34m\u001b[0m\u001b[0;34m\u001b[0m\u001b[0m\n",
            "\u001b[0;32m/usr/local/lib/python3.8/dist-packages/pandas/_libs/parsers.pyx\u001b[0m in \u001b[0;36mpandas._libs.parsers.TextReader.read_low_memory\u001b[0;34m()\u001b[0m\n",
            "\u001b[0;32m/usr/local/lib/python3.8/dist-packages/pandas/_libs/parsers.pyx\u001b[0m in \u001b[0;36mpandas._libs.parsers.TextReader._read_rows\u001b[0;34m()\u001b[0m\n",
            "\u001b[0;32m/usr/local/lib/python3.8/dist-packages/pandas/_libs/parsers.pyx\u001b[0m in \u001b[0;36mpandas._libs.parsers.TextReader._tokenize_rows\u001b[0;34m()\u001b[0m\n",
            "\u001b[0;32m/usr/local/lib/python3.8/dist-packages/pandas/_libs/parsers.pyx\u001b[0m in \u001b[0;36mpandas._libs.parsers.raise_parser_error\u001b[0;34m()\u001b[0m\n",
            "\u001b[0;31mParserError\u001b[0m: Error tokenizing data. C error: Expected 31 fields in line 3986, saw 32\n"
          ]
        }
      ],
      "source": [
        "# loading the dataset to a Pandas DataFrame\n",
        "credit_card_data = pd.read_csv('/content/creditcard.csv')"
      ]
    },
    {
      "cell_type": "code",
      "execution_count": null,
      "metadata": {
        "colab": {
          "base_uri": "https://localhost:8080/",
          "height": 189
        },
        "id": "o_iMfyHsTa6s",
        "outputId": "4f2480a7-a88c-4239-e4f9-111aa2941333"
      },
      "outputs": [
        {
          "output_type": "error",
          "ename": "NameError",
          "evalue": "ignored",
          "traceback": [
            "\u001b[0;31m---------------------------------------------------------------------------\u001b[0m",
            "\u001b[0;31mNameError\u001b[0m                                 Traceback (most recent call last)",
            "\u001b[0;32m<ipython-input-10-5ec7a148a835>\u001b[0m in \u001b[0;36m<module>\u001b[0;34m\u001b[0m\n\u001b[1;32m      1\u001b[0m \u001b[0;31m# first 5 rows of the dataset\u001b[0m\u001b[0;34m\u001b[0m\u001b[0;34m\u001b[0m\u001b[0;34m\u001b[0m\u001b[0m\n\u001b[0;32m----> 2\u001b[0;31m \u001b[0mcredit_card_data\u001b[0m\u001b[0;34m.\u001b[0m\u001b[0mhead\u001b[0m\u001b[0;34m(\u001b[0m\u001b[0;34m)\u001b[0m\u001b[0;34m\u001b[0m\u001b[0;34m\u001b[0m\u001b[0m\n\u001b[0m",
            "\u001b[0;31mNameError\u001b[0m: name 'credit_card_data' is not defined"
          ]
        }
      ],
      "source": [
        "# first 5 rows of the dataset\n",
        "credit_card_data.head()"
      ]
    },
    {
      "cell_type": "code",
      "execution_count": null,
      "metadata": {
        "colab": {
          "base_uri": "https://localhost:8080/",
          "height": 171
        },
        "id": "iWCP6YJjThIM",
        "outputId": "dda02c54-4ea9-4402-a7d9-13c856b861bb"
      },
      "outputs": [
        {
          "output_type": "error",
          "ename": "NameError",
          "evalue": "ignored",
          "traceback": [
            "\u001b[0;31m---------------------------------------------------------------------------\u001b[0m",
            "\u001b[0;31mNameError\u001b[0m                                 Traceback (most recent call last)",
            "\u001b[0;32m<ipython-input-11-d8e582b93875>\u001b[0m in \u001b[0;36m<module>\u001b[0;34m\u001b[0m\n\u001b[0;32m----> 1\u001b[0;31m \u001b[0mcredit_card_data\u001b[0m\u001b[0;34m.\u001b[0m\u001b[0mtail\u001b[0m\u001b[0;34m(\u001b[0m\u001b[0;34m)\u001b[0m\u001b[0;34m\u001b[0m\u001b[0;34m\u001b[0m\u001b[0m\n\u001b[0m",
            "\u001b[0;31mNameError\u001b[0m: name 'credit_card_data' is not defined"
          ]
        }
      ],
      "source": [
        "credit_card_data.tail()"
      ]
    },
    {
      "cell_type": "code",
      "execution_count": null,
      "metadata": {
        "colab": {
          "base_uri": "https://localhost:8080/"
        },
        "id": "KcCZquvEUD3A",
        "outputId": "bf762210-78ff-4720-90de-a8ceded8da29"
      },
      "outputs": [
        {
          "name": "stdout",
          "output_type": "stream",
          "text": [
            "<class 'pandas.core.frame.DataFrame'>\n",
            "RangeIndex: 3973 entries, 0 to 3972\n",
            "Data columns (total 31 columns):\n",
            " #   Column  Non-Null Count  Dtype  \n",
            "---  ------  --------------  -----  \n",
            " 0   Time    3973 non-null   int64  \n",
            " 1   V1      3973 non-null   float64\n",
            " 2   V2      3973 non-null   float64\n",
            " 3   V3      3973 non-null   float64\n",
            " 4   V4      3973 non-null   float64\n",
            " 5   V5      3973 non-null   float64\n",
            " 6   V6      3973 non-null   float64\n",
            " 7   V7      3973 non-null   float64\n",
            " 8   V8      3973 non-null   float64\n",
            " 9   V9      3973 non-null   float64\n",
            " 10  V10     3973 non-null   float64\n",
            " 11  V11     3973 non-null   float64\n",
            " 12  V12     3973 non-null   float64\n",
            " 13  V13     3973 non-null   float64\n",
            " 14  V14     3973 non-null   float64\n",
            " 15  V15     3973 non-null   float64\n",
            " 16  V16     3973 non-null   float64\n",
            " 17  V17     3973 non-null   float64\n",
            " 18  V18     3973 non-null   float64\n",
            " 19  V19     3973 non-null   float64\n",
            " 20  V20     3973 non-null   float64\n",
            " 21  V21     3973 non-null   float64\n",
            " 22  V22     3973 non-null   float64\n",
            " 23  V23     3972 non-null   float64\n",
            " 24  V24     3972 non-null   float64\n",
            " 25  V25     3972 non-null   float64\n",
            " 26  V26     3972 non-null   float64\n",
            " 27  V27     3972 non-null   float64\n",
            " 28  V28     3972 non-null   float64\n",
            " 29  Amount  3972 non-null   float64\n",
            " 30  Class   3972 non-null   float64\n",
            "dtypes: float64(30), int64(1)\n",
            "memory usage: 962.3 KB\n"
          ]
        }
      ],
      "source": [
        "# dataset informations\n",
        "credit_card_data.info()"
      ]
    },
    {
      "cell_type": "code",
      "execution_count": null,
      "metadata": {
        "colab": {
          "base_uri": "https://localhost:8080/"
        },
        "id": "XxwasmfKUQiA",
        "outputId": "e1094377-89c3-44a2-dbd2-5a558981e256"
      },
      "outputs": [
        {
          "data": {
            "text/plain": [
              "Time      0\n",
              "V1        0\n",
              "V2        0\n",
              "V3        0\n",
              "V4        0\n",
              "V5        0\n",
              "V6        0\n",
              "V7        0\n",
              "V8        0\n",
              "V9        0\n",
              "V10       0\n",
              "V11       0\n",
              "V12       0\n",
              "V13       0\n",
              "V14       0\n",
              "V15       0\n",
              "V16       0\n",
              "V17       0\n",
              "V18       0\n",
              "V19       0\n",
              "V20       0\n",
              "V21       0\n",
              "V22       0\n",
              "V23       1\n",
              "V24       1\n",
              "V25       1\n",
              "V26       1\n",
              "V27       1\n",
              "V28       1\n",
              "Amount    1\n",
              "Class     1\n",
              "dtype: int64"
            ]
          },
          "execution_count": 8,
          "metadata": {},
          "output_type": "execute_result"
        }
      ],
      "source": [
        "# checking the number of missing values in each column\n",
        "credit_card_data.isnull().sum()"
      ]
    },
    {
      "cell_type": "code",
      "execution_count": null,
      "metadata": {
        "colab": {
          "base_uri": "https://localhost:8080/"
        },
        "id": "EIpoKfp5Ugri",
        "outputId": "74a0aafa-5896-4001-f377-ea3755d1a73e"
      },
      "outputs": [
        {
          "data": {
            "text/plain": [
              "0.0    3970\n",
              "1.0       2\n",
              "Name: Class, dtype: int64"
            ]
          },
          "execution_count": 9,
          "metadata": {},
          "output_type": "execute_result"
        }
      ],
      "source": [
        "# distribution of legit transactions & fraudulent transactions\n",
        "credit_card_data['Class'].value_counts()"
      ]
    },
    {
      "cell_type": "markdown",
      "metadata": {
        "id": "flz_InK7VGri"
      },
      "source": [
        "This Dataset is highly unblanced"
      ]
    },
    {
      "cell_type": "markdown",
      "metadata": {
        "id": "4OlMhkHzVKMv"
      },
      "source": [
        "0 --> Normal Transaction\n",
        "\n",
        "1 --> fraudulent transaction"
      ]
    },
    {
      "cell_type": "code",
      "execution_count": null,
      "metadata": {
        "id": "QNn77bdbU2Lf"
      },
      "outputs": [],
      "source": [
        "# separating the data for analysis\n",
        "legit = credit_card_data[credit_card_data.Class == 0]\n",
        "fraud = credit_card_data[credit_card_data.Class == 1]"
      ]
    },
    {
      "cell_type": "code",
      "execution_count": null,
      "metadata": {
        "colab": {
          "base_uri": "https://localhost:8080/"
        },
        "id": "zsrMgOdoVnrV",
        "outputId": "4c6147bf-3e10-4d0c-f9d1-dae02f2f86c0"
      },
      "outputs": [
        {
          "name": "stdout",
          "output_type": "stream",
          "text": [
            "(3970, 31)\n",
            "(2, 31)\n"
          ]
        }
      ],
      "source": [
        "print(legit.shape)\n",
        "print(fraud.shape)"
      ]
    },
    {
      "cell_type": "code",
      "execution_count": null,
      "metadata": {
        "colab": {
          "base_uri": "https://localhost:8080/"
        },
        "id": "1s3KGshBVsTb",
        "outputId": "25cf0c64-5587-42d9-ec2e-c1a4bdfe4eca"
      },
      "outputs": [
        {
          "data": {
            "text/plain": [
              "count    3970.000000\n",
              "mean       64.899597\n",
              "std       213.612570\n",
              "min         0.000000\n",
              "25%         2.270000\n",
              "50%        12.990000\n",
              "75%        54.990000\n",
              "max      7712.430000\n",
              "Name: Amount, dtype: float64"
            ]
          },
          "execution_count": 12,
          "metadata": {},
          "output_type": "execute_result"
        }
      ],
      "source": [
        "# statistical measures of the data\n",
        "legit.Amount.describe()"
      ]
    },
    {
      "cell_type": "code",
      "execution_count": null,
      "metadata": {
        "colab": {
          "base_uri": "https://localhost:8080/"
        },
        "id": "KkU3Mzr5V7fR",
        "outputId": "5980c2c2-b7b9-45f1-a010-ccd9c6abe725"
      },
      "outputs": [
        {
          "data": {
            "text/plain": [
              "count      2.000000\n",
              "mean     264.500000\n",
              "std      374.059487\n",
              "min        0.000000\n",
              "25%      132.250000\n",
              "50%      264.500000\n",
              "75%      396.750000\n",
              "max      529.000000\n",
              "Name: Amount, dtype: float64"
            ]
          },
          "execution_count": 13,
          "metadata": {},
          "output_type": "execute_result"
        }
      ],
      "source": [
        "fraud.Amount.describe()"
      ]
    },
    {
      "cell_type": "code",
      "execution_count": null,
      "metadata": {
        "colab": {
          "base_uri": "https://localhost:8080/",
          "height": 237
        },
        "id": "aFUMMHwYWMvp",
        "outputId": "8625f48a-af20-4d2f-ac6b-52a2c6246b7b"
      },
      "outputs": [
        {
          "data": {
            "text/html": [
              "\n",
              "  <div id=\"df-cecd3e70-ca33-4082-95bf-13cd1845fc11\">\n",
              "    <div class=\"colab-df-container\">\n",
              "      <div>\n",
              "<style scoped>\n",
              "    .dataframe tbody tr th:only-of-type {\n",
              "        vertical-align: middle;\n",
              "    }\n",
              "\n",
              "    .dataframe tbody tr th {\n",
              "        vertical-align: top;\n",
              "    }\n",
              "\n",
              "    .dataframe thead th {\n",
              "        text-align: right;\n",
              "    }\n",
              "</style>\n",
              "<table border=\"1\" class=\"dataframe\">\n",
              "  <thead>\n",
              "    <tr style=\"text-align: right;\">\n",
              "      <th></th>\n",
              "      <th>Time</th>\n",
              "      <th>V1</th>\n",
              "      <th>V2</th>\n",
              "      <th>V3</th>\n",
              "      <th>V4</th>\n",
              "      <th>V5</th>\n",
              "      <th>V6</th>\n",
              "      <th>V7</th>\n",
              "      <th>V8</th>\n",
              "      <th>V9</th>\n",
              "      <th>...</th>\n",
              "      <th>V20</th>\n",
              "      <th>V21</th>\n",
              "      <th>V22</th>\n",
              "      <th>V23</th>\n",
              "      <th>V24</th>\n",
              "      <th>V25</th>\n",
              "      <th>V26</th>\n",
              "      <th>V27</th>\n",
              "      <th>V28</th>\n",
              "      <th>Amount</th>\n",
              "    </tr>\n",
              "    <tr>\n",
              "      <th>Class</th>\n",
              "      <th></th>\n",
              "      <th></th>\n",
              "      <th></th>\n",
              "      <th></th>\n",
              "      <th></th>\n",
              "      <th></th>\n",
              "      <th></th>\n",
              "      <th></th>\n",
              "      <th></th>\n",
              "      <th></th>\n",
              "      <th></th>\n",
              "      <th></th>\n",
              "      <th></th>\n",
              "      <th></th>\n",
              "      <th></th>\n",
              "      <th></th>\n",
              "      <th></th>\n",
              "      <th></th>\n",
              "      <th></th>\n",
              "      <th></th>\n",
              "      <th></th>\n",
              "    </tr>\n",
              "  </thead>\n",
              "  <tbody>\n",
              "    <tr>\n",
              "      <th>0.0</th>\n",
              "      <td>1638.828463</td>\n",
              "      <td>-0.332459</td>\n",
              "      <td>0.308935</td>\n",
              "      <td>0.837446</td>\n",
              "      <td>0.011432</td>\n",
              "      <td>-0.029468</td>\n",
              "      <td>0.053530</td>\n",
              "      <td>0.147357</td>\n",
              "      <td>-0.071642</td>\n",
              "      <td>0.056211</td>\n",
              "      <td>...</td>\n",
              "      <td>0.059567</td>\n",
              "      <td>0.010282</td>\n",
              "      <td>-0.082957</td>\n",
              "      <td>-0.058743</td>\n",
              "      <td>0.029114</td>\n",
              "      <td>0.095244</td>\n",
              "      <td>-0.012637</td>\n",
              "      <td>0.044658</td>\n",
              "      <td>0.002668</td>\n",
              "      <td>64.899597</td>\n",
              "    </tr>\n",
              "    <tr>\n",
              "      <th>1.0</th>\n",
              "      <td>439.000000</td>\n",
              "      <td>-2.677884</td>\n",
              "      <td>-0.602658</td>\n",
              "      <td>-0.260694</td>\n",
              "      <td>3.143275</td>\n",
              "      <td>0.418809</td>\n",
              "      <td>-1.245684</td>\n",
              "      <td>-1.105907</td>\n",
              "      <td>0.661932</td>\n",
              "      <td>-1.520521</td>\n",
              "      <td>...</td>\n",
              "      <td>1.114625</td>\n",
              "      <td>0.589464</td>\n",
              "      <td>0.200214</td>\n",
              "      <td>0.455377</td>\n",
              "      <td>0.013198</td>\n",
              "      <td>0.162159</td>\n",
              "      <td>0.016239</td>\n",
              "      <td>0.004186</td>\n",
              "      <td>-0.053756</td>\n",
              "      <td>264.500000</td>\n",
              "    </tr>\n",
              "  </tbody>\n",
              "</table>\n",
              "<p>2 rows × 30 columns</p>\n",
              "</div>\n",
              "      <button class=\"colab-df-convert\" onclick=\"convertToInteractive('df-cecd3e70-ca33-4082-95bf-13cd1845fc11')\"\n",
              "              title=\"Convert this dataframe to an interactive table.\"\n",
              "              style=\"display:none;\">\n",
              "        \n",
              "  <svg xmlns=\"http://www.w3.org/2000/svg\" height=\"24px\"viewBox=\"0 0 24 24\"\n",
              "       width=\"24px\">\n",
              "    <path d=\"M0 0h24v24H0V0z\" fill=\"none\"/>\n",
              "    <path d=\"M18.56 5.44l.94 2.06.94-2.06 2.06-.94-2.06-.94-.94-2.06-.94 2.06-2.06.94zm-11 1L8.5 8.5l.94-2.06 2.06-.94-2.06-.94L8.5 2.5l-.94 2.06-2.06.94zm10 10l.94 2.06.94-2.06 2.06-.94-2.06-.94-.94-2.06-.94 2.06-2.06.94z\"/><path d=\"M17.41 7.96l-1.37-1.37c-.4-.4-.92-.59-1.43-.59-.52 0-1.04.2-1.43.59L10.3 9.45l-7.72 7.72c-.78.78-.78 2.05 0 2.83L4 21.41c.39.39.9.59 1.41.59.51 0 1.02-.2 1.41-.59l7.78-7.78 2.81-2.81c.8-.78.8-2.07 0-2.86zM5.41 20L4 18.59l7.72-7.72 1.47 1.35L5.41 20z\"/>\n",
              "  </svg>\n",
              "      </button>\n",
              "      \n",
              "  <style>\n",
              "    .colab-df-container {\n",
              "      display:flex;\n",
              "      flex-wrap:wrap;\n",
              "      gap: 12px;\n",
              "    }\n",
              "\n",
              "    .colab-df-convert {\n",
              "      background-color: #E8F0FE;\n",
              "      border: none;\n",
              "      border-radius: 50%;\n",
              "      cursor: pointer;\n",
              "      display: none;\n",
              "      fill: #1967D2;\n",
              "      height: 32px;\n",
              "      padding: 0 0 0 0;\n",
              "      width: 32px;\n",
              "    }\n",
              "\n",
              "    .colab-df-convert:hover {\n",
              "      background-color: #E2EBFA;\n",
              "      box-shadow: 0px 1px 2px rgba(60, 64, 67, 0.3), 0px 1px 3px 1px rgba(60, 64, 67, 0.15);\n",
              "      fill: #174EA6;\n",
              "    }\n",
              "\n",
              "    [theme=dark] .colab-df-convert {\n",
              "      background-color: #3B4455;\n",
              "      fill: #D2E3FC;\n",
              "    }\n",
              "\n",
              "    [theme=dark] .colab-df-convert:hover {\n",
              "      background-color: #434B5C;\n",
              "      box-shadow: 0px 1px 3px 1px rgba(0, 0, 0, 0.15);\n",
              "      filter: drop-shadow(0px 1px 2px rgba(0, 0, 0, 0.3));\n",
              "      fill: #FFFFFF;\n",
              "    }\n",
              "  </style>\n",
              "\n",
              "      <script>\n",
              "        const buttonEl =\n",
              "          document.querySelector('#df-cecd3e70-ca33-4082-95bf-13cd1845fc11 button.colab-df-convert');\n",
              "        buttonEl.style.display =\n",
              "          google.colab.kernel.accessAllowed ? 'block' : 'none';\n",
              "\n",
              "        async function convertToInteractive(key) {\n",
              "          const element = document.querySelector('#df-cecd3e70-ca33-4082-95bf-13cd1845fc11');\n",
              "          const dataTable =\n",
              "            await google.colab.kernel.invokeFunction('convertToInteractive',\n",
              "                                                     [key], {});\n",
              "          if (!dataTable) return;\n",
              "\n",
              "          const docLinkHtml = 'Like what you see? Visit the ' +\n",
              "            '<a target=\"_blank\" href=https://colab.research.google.com/notebooks/data_table.ipynb>data table notebook</a>'\n",
              "            + ' to learn more about interactive tables.';\n",
              "          element.innerHTML = '';\n",
              "          dataTable['output_type'] = 'display_data';\n",
              "          await google.colab.output.renderOutput(dataTable, element);\n",
              "          const docLink = document.createElement('div');\n",
              "          docLink.innerHTML = docLinkHtml;\n",
              "          element.appendChild(docLink);\n",
              "        }\n",
              "      </script>\n",
              "    </div>\n",
              "  </div>\n",
              "  "
            ],
            "text/plain": [
              "              Time        V1        V2        V3        V4        V5  \\\n",
              "Class                                                                  \n",
              "0.0    1638.828463 -0.332459  0.308935  0.837446  0.011432 -0.029468   \n",
              "1.0     439.000000 -2.677884 -0.602658 -0.260694  3.143275  0.418809   \n",
              "\n",
              "             V6        V7        V8        V9  ...       V20       V21  \\\n",
              "Class                                          ...                       \n",
              "0.0    0.053530  0.147357 -0.071642  0.056211  ...  0.059567  0.010282   \n",
              "1.0   -1.245684 -1.105907  0.661932 -1.520521  ...  1.114625  0.589464   \n",
              "\n",
              "            V22       V23       V24       V25       V26       V27       V28  \\\n",
              "Class                                                                         \n",
              "0.0   -0.082957 -0.058743  0.029114  0.095244 -0.012637  0.044658  0.002668   \n",
              "1.0    0.200214  0.455377  0.013198  0.162159  0.016239  0.004186 -0.053756   \n",
              "\n",
              "           Amount  \n",
              "Class              \n",
              "0.0     64.899597  \n",
              "1.0    264.500000  \n",
              "\n",
              "[2 rows x 30 columns]"
            ]
          },
          "execution_count": 14,
          "metadata": {},
          "output_type": "execute_result"
        }
      ],
      "source": [
        "# compare the values for both transactions\n",
        "credit_card_data.groupby('Class').mean()"
      ]
    },
    {
      "cell_type": "markdown",
      "metadata": {
        "id": "ybHNYPpEW0N6"
      },
      "source": [
        "Under-Sampling"
      ]
    },
    {
      "cell_type": "markdown",
      "metadata": {
        "id": "MlXkIGEIW3KM"
      },
      "source": [
        "Build a sample dataset containing similar distribution of normal transactions and Fraudulent Transactions"
      ]
    },
    {
      "cell_type": "markdown",
      "metadata": {
        "id": "bCj3Dee7XB0F"
      },
      "source": [
        "Number of Fraudulent Transactions --> 492"
      ]
    },
    {
      "cell_type": "code",
      "execution_count": null,
      "metadata": {
        "id": "QtWT13mKWjJ_"
      },
      "outputs": [],
      "source": [
        "legit_sample = legit.sample(n=492)"
      ]
    },
    {
      "cell_type": "markdown",
      "metadata": {
        "id": "SNiYI_SmXeim"
      },
      "source": [
        "Concatenating two DataFrames"
      ]
    },
    {
      "cell_type": "code",
      "execution_count": null,
      "metadata": {
        "id": "0yiXrYiRXcnE"
      },
      "outputs": [],
      "source": [
        "new_dataset = pd.concat([legit_sample, fraud], axis=0)"
      ]
    },
    {
      "cell_type": "code",
      "execution_count": null,
      "metadata": {
        "colab": {
          "base_uri": "https://localhost:8080/",
          "height": 299
        },
        "id": "UuLw43AXX0bq",
        "outputId": "d12f6437-1e5d-42d8-8c78-eb34202d79a8"
      },
      "outputs": [
        {
          "data": {
            "text/html": [
              "\n",
              "  <div id=\"df-4f9b8de0-f6f9-4615-a68f-b243bb14ecc0\">\n",
              "    <div class=\"colab-df-container\">\n",
              "      <div>\n",
              "<style scoped>\n",
              "    .dataframe tbody tr th:only-of-type {\n",
              "        vertical-align: middle;\n",
              "    }\n",
              "\n",
              "    .dataframe tbody tr th {\n",
              "        vertical-align: top;\n",
              "    }\n",
              "\n",
              "    .dataframe thead th {\n",
              "        text-align: right;\n",
              "    }\n",
              "</style>\n",
              "<table border=\"1\" class=\"dataframe\">\n",
              "  <thead>\n",
              "    <tr style=\"text-align: right;\">\n",
              "      <th></th>\n",
              "      <th>Time</th>\n",
              "      <th>V1</th>\n",
              "      <th>V2</th>\n",
              "      <th>V3</th>\n",
              "      <th>V4</th>\n",
              "      <th>V5</th>\n",
              "      <th>V6</th>\n",
              "      <th>V7</th>\n",
              "      <th>V8</th>\n",
              "      <th>V9</th>\n",
              "      <th>...</th>\n",
              "      <th>V21</th>\n",
              "      <th>V22</th>\n",
              "      <th>V23</th>\n",
              "      <th>V24</th>\n",
              "      <th>V25</th>\n",
              "      <th>V26</th>\n",
              "      <th>V27</th>\n",
              "      <th>V28</th>\n",
              "      <th>Amount</th>\n",
              "      <th>Class</th>\n",
              "    </tr>\n",
              "  </thead>\n",
              "  <tbody>\n",
              "    <tr>\n",
              "      <th>32</th>\n",
              "      <td>26</td>\n",
              "      <td>-0.529912</td>\n",
              "      <td>0.873892</td>\n",
              "      <td>1.347247</td>\n",
              "      <td>0.145457</td>\n",
              "      <td>0.414209</td>\n",
              "      <td>0.100223</td>\n",
              "      <td>0.711206</td>\n",
              "      <td>0.176066</td>\n",
              "      <td>-0.286717</td>\n",
              "      <td>...</td>\n",
              "      <td>0.046949</td>\n",
              "      <td>0.208105</td>\n",
              "      <td>-0.185548</td>\n",
              "      <td>0.001031</td>\n",
              "      <td>0.098816</td>\n",
              "      <td>-0.552904</td>\n",
              "      <td>-0.073288</td>\n",
              "      <td>0.023307</td>\n",
              "      <td>6.14</td>\n",
              "      <td>0.0</td>\n",
              "    </tr>\n",
              "    <tr>\n",
              "      <th>3217</th>\n",
              "      <td>2792</td>\n",
              "      <td>-1.888378</td>\n",
              "      <td>-0.520140</td>\n",
              "      <td>2.531382</td>\n",
              "      <td>-0.493778</td>\n",
              "      <td>-0.152161</td>\n",
              "      <td>-1.113189</td>\n",
              "      <td>-0.237834</td>\n",
              "      <td>0.079236</td>\n",
              "      <td>0.513492</td>\n",
              "      <td>...</td>\n",
              "      <td>0.061450</td>\n",
              "      <td>0.385022</td>\n",
              "      <td>-0.330148</td>\n",
              "      <td>0.817943</td>\n",
              "      <td>0.216878</td>\n",
              "      <td>1.031502</td>\n",
              "      <td>0.247833</td>\n",
              "      <td>0.082659</td>\n",
              "      <td>100.00</td>\n",
              "      <td>0.0</td>\n",
              "    </tr>\n",
              "    <tr>\n",
              "      <th>3176</th>\n",
              "      <td>2749</td>\n",
              "      <td>-0.624780</td>\n",
              "      <td>1.016347</td>\n",
              "      <td>1.669072</td>\n",
              "      <td>1.043474</td>\n",
              "      <td>-0.597883</td>\n",
              "      <td>0.065141</td>\n",
              "      <td>0.585206</td>\n",
              "      <td>-0.095099</td>\n",
              "      <td>-0.476078</td>\n",
              "      <td>...</td>\n",
              "      <td>-0.042655</td>\n",
              "      <td>0.030040</td>\n",
              "      <td>-0.071507</td>\n",
              "      <td>0.592500</td>\n",
              "      <td>-0.342625</td>\n",
              "      <td>0.413435</td>\n",
              "      <td>-0.243781</td>\n",
              "      <td>0.112628</td>\n",
              "      <td>64.36</td>\n",
              "      <td>0.0</td>\n",
              "    </tr>\n",
              "    <tr>\n",
              "      <th>716</th>\n",
              "      <td>539</td>\n",
              "      <td>-0.420050</td>\n",
              "      <td>1.034648</td>\n",
              "      <td>1.565850</td>\n",
              "      <td>-0.029643</td>\n",
              "      <td>-0.054336</td>\n",
              "      <td>-0.907983</td>\n",
              "      <td>0.688436</td>\n",
              "      <td>-0.063128</td>\n",
              "      <td>-0.389635</td>\n",
              "      <td>...</td>\n",
              "      <td>-0.228282</td>\n",
              "      <td>-0.598231</td>\n",
              "      <td>-0.023081</td>\n",
              "      <td>0.360199</td>\n",
              "      <td>-0.194316</td>\n",
              "      <td>0.071640</td>\n",
              "      <td>0.265159</td>\n",
              "      <td>0.121071</td>\n",
              "      <td>1.29</td>\n",
              "      <td>0.0</td>\n",
              "    </tr>\n",
              "    <tr>\n",
              "      <th>3709</th>\n",
              "      <td>3178</td>\n",
              "      <td>1.158620</td>\n",
              "      <td>0.135117</td>\n",
              "      <td>0.498721</td>\n",
              "      <td>0.460069</td>\n",
              "      <td>-0.230492</td>\n",
              "      <td>-0.190612</td>\n",
              "      <td>-0.098533</td>\n",
              "      <td>0.070173</td>\n",
              "      <td>-0.240326</td>\n",
              "      <td>...</td>\n",
              "      <td>-0.171668</td>\n",
              "      <td>-0.510800</td>\n",
              "      <td>0.144422</td>\n",
              "      <td>0.016907</td>\n",
              "      <td>0.116477</td>\n",
              "      <td>0.105610</td>\n",
              "      <td>-0.017031</td>\n",
              "      <td>0.007138</td>\n",
              "      <td>9.99</td>\n",
              "      <td>0.0</td>\n",
              "    </tr>\n",
              "  </tbody>\n",
              "</table>\n",
              "<p>5 rows × 31 columns</p>\n",
              "</div>\n",
              "      <button class=\"colab-df-convert\" onclick=\"convertToInteractive('df-4f9b8de0-f6f9-4615-a68f-b243bb14ecc0')\"\n",
              "              title=\"Convert this dataframe to an interactive table.\"\n",
              "              style=\"display:none;\">\n",
              "        \n",
              "  <svg xmlns=\"http://www.w3.org/2000/svg\" height=\"24px\"viewBox=\"0 0 24 24\"\n",
              "       width=\"24px\">\n",
              "    <path d=\"M0 0h24v24H0V0z\" fill=\"none\"/>\n",
              "    <path d=\"M18.56 5.44l.94 2.06.94-2.06 2.06-.94-2.06-.94-.94-2.06-.94 2.06-2.06.94zm-11 1L8.5 8.5l.94-2.06 2.06-.94-2.06-.94L8.5 2.5l-.94 2.06-2.06.94zm10 10l.94 2.06.94-2.06 2.06-.94-2.06-.94-.94-2.06-.94 2.06-2.06.94z\"/><path d=\"M17.41 7.96l-1.37-1.37c-.4-.4-.92-.59-1.43-.59-.52 0-1.04.2-1.43.59L10.3 9.45l-7.72 7.72c-.78.78-.78 2.05 0 2.83L4 21.41c.39.39.9.59 1.41.59.51 0 1.02-.2 1.41-.59l7.78-7.78 2.81-2.81c.8-.78.8-2.07 0-2.86zM5.41 20L4 18.59l7.72-7.72 1.47 1.35L5.41 20z\"/>\n",
              "  </svg>\n",
              "      </button>\n",
              "      \n",
              "  <style>\n",
              "    .colab-df-container {\n",
              "      display:flex;\n",
              "      flex-wrap:wrap;\n",
              "      gap: 12px;\n",
              "    }\n",
              "\n",
              "    .colab-df-convert {\n",
              "      background-color: #E8F0FE;\n",
              "      border: none;\n",
              "      border-radius: 50%;\n",
              "      cursor: pointer;\n",
              "      display: none;\n",
              "      fill: #1967D2;\n",
              "      height: 32px;\n",
              "      padding: 0 0 0 0;\n",
              "      width: 32px;\n",
              "    }\n",
              "\n",
              "    .colab-df-convert:hover {\n",
              "      background-color: #E2EBFA;\n",
              "      box-shadow: 0px 1px 2px rgba(60, 64, 67, 0.3), 0px 1px 3px 1px rgba(60, 64, 67, 0.15);\n",
              "      fill: #174EA6;\n",
              "    }\n",
              "\n",
              "    [theme=dark] .colab-df-convert {\n",
              "      background-color: #3B4455;\n",
              "      fill: #D2E3FC;\n",
              "    }\n",
              "\n",
              "    [theme=dark] .colab-df-convert:hover {\n",
              "      background-color: #434B5C;\n",
              "      box-shadow: 0px 1px 3px 1px rgba(0, 0, 0, 0.15);\n",
              "      filter: drop-shadow(0px 1px 2px rgba(0, 0, 0, 0.3));\n",
              "      fill: #FFFFFF;\n",
              "    }\n",
              "  </style>\n",
              "\n",
              "      <script>\n",
              "        const buttonEl =\n",
              "          document.querySelector('#df-4f9b8de0-f6f9-4615-a68f-b243bb14ecc0 button.colab-df-convert');\n",
              "        buttonEl.style.display =\n",
              "          google.colab.kernel.accessAllowed ? 'block' : 'none';\n",
              "\n",
              "        async function convertToInteractive(key) {\n",
              "          const element = document.querySelector('#df-4f9b8de0-f6f9-4615-a68f-b243bb14ecc0');\n",
              "          const dataTable =\n",
              "            await google.colab.kernel.invokeFunction('convertToInteractive',\n",
              "                                                     [key], {});\n",
              "          if (!dataTable) return;\n",
              "\n",
              "          const docLinkHtml = 'Like what you see? Visit the ' +\n",
              "            '<a target=\"_blank\" href=https://colab.research.google.com/notebooks/data_table.ipynb>data table notebook</a>'\n",
              "            + ' to learn more about interactive tables.';\n",
              "          element.innerHTML = '';\n",
              "          dataTable['output_type'] = 'display_data';\n",
              "          await google.colab.output.renderOutput(dataTable, element);\n",
              "          const docLink = document.createElement('div');\n",
              "          docLink.innerHTML = docLinkHtml;\n",
              "          element.appendChild(docLink);\n",
              "        }\n",
              "      </script>\n",
              "    </div>\n",
              "  </div>\n",
              "  "
            ],
            "text/plain": [
              "      Time        V1        V2        V3        V4        V5        V6  \\\n",
              "32      26 -0.529912  0.873892  1.347247  0.145457  0.414209  0.100223   \n",
              "3217  2792 -1.888378 -0.520140  2.531382 -0.493778 -0.152161 -1.113189   \n",
              "3176  2749 -0.624780  1.016347  1.669072  1.043474 -0.597883  0.065141   \n",
              "716    539 -0.420050  1.034648  1.565850 -0.029643 -0.054336 -0.907983   \n",
              "3709  3178  1.158620  0.135117  0.498721  0.460069 -0.230492 -0.190612   \n",
              "\n",
              "            V7        V8        V9  ...       V21       V22       V23  \\\n",
              "32    0.711206  0.176066 -0.286717  ...  0.046949  0.208105 -0.185548   \n",
              "3217 -0.237834  0.079236  0.513492  ...  0.061450  0.385022 -0.330148   \n",
              "3176  0.585206 -0.095099 -0.476078  ... -0.042655  0.030040 -0.071507   \n",
              "716   0.688436 -0.063128 -0.389635  ... -0.228282 -0.598231 -0.023081   \n",
              "3709 -0.098533  0.070173 -0.240326  ... -0.171668 -0.510800  0.144422   \n",
              "\n",
              "           V24       V25       V26       V27       V28  Amount  Class  \n",
              "32    0.001031  0.098816 -0.552904 -0.073288  0.023307    6.14    0.0  \n",
              "3217  0.817943  0.216878  1.031502  0.247833  0.082659  100.00    0.0  \n",
              "3176  0.592500 -0.342625  0.413435 -0.243781  0.112628   64.36    0.0  \n",
              "716   0.360199 -0.194316  0.071640  0.265159  0.121071    1.29    0.0  \n",
              "3709  0.016907  0.116477  0.105610 -0.017031  0.007138    9.99    0.0  \n",
              "\n",
              "[5 rows x 31 columns]"
            ]
          },
          "execution_count": 17,
          "metadata": {},
          "output_type": "execute_result"
        }
      ],
      "source": [
        "new_dataset.head()"
      ]
    },
    {
      "cell_type": "code",
      "execution_count": null,
      "metadata": {
        "colab": {
          "base_uri": "https://localhost:8080/",
          "height": 299
        },
        "id": "n_Rjt1qDX3AQ",
        "outputId": "df463a08-74c3-4f06-ecb3-b5fbba43cc68"
      },
      "outputs": [
        {
          "data": {
            "text/html": [
              "\n",
              "  <div id=\"df-fd3bbc2c-f46e-47d5-9dd7-6fe13e1b96ae\">\n",
              "    <div class=\"colab-df-container\">\n",
              "      <div>\n",
              "<style scoped>\n",
              "    .dataframe tbody tr th:only-of-type {\n",
              "        vertical-align: middle;\n",
              "    }\n",
              "\n",
              "    .dataframe tbody tr th {\n",
              "        vertical-align: top;\n",
              "    }\n",
              "\n",
              "    .dataframe thead th {\n",
              "        text-align: right;\n",
              "    }\n",
              "</style>\n",
              "<table border=\"1\" class=\"dataframe\">\n",
              "  <thead>\n",
              "    <tr style=\"text-align: right;\">\n",
              "      <th></th>\n",
              "      <th>Time</th>\n",
              "      <th>V1</th>\n",
              "      <th>V2</th>\n",
              "      <th>V3</th>\n",
              "      <th>V4</th>\n",
              "      <th>V5</th>\n",
              "      <th>V6</th>\n",
              "      <th>V7</th>\n",
              "      <th>V8</th>\n",
              "      <th>V9</th>\n",
              "      <th>...</th>\n",
              "      <th>V21</th>\n",
              "      <th>V22</th>\n",
              "      <th>V23</th>\n",
              "      <th>V24</th>\n",
              "      <th>V25</th>\n",
              "      <th>V26</th>\n",
              "      <th>V27</th>\n",
              "      <th>V28</th>\n",
              "      <th>Amount</th>\n",
              "      <th>Class</th>\n",
              "    </tr>\n",
              "  </thead>\n",
              "  <tbody>\n",
              "    <tr>\n",
              "      <th>3343</th>\n",
              "      <td>2893</td>\n",
              "      <td>1.015376</td>\n",
              "      <td>-0.859323</td>\n",
              "      <td>0.175692</td>\n",
              "      <td>-1.303424</td>\n",
              "      <td>-0.675609</td>\n",
              "      <td>0.156803</td>\n",
              "      <td>-0.421449</td>\n",
              "      <td>0.266230</td>\n",
              "      <td>1.630526</td>\n",
              "      <td>...</td>\n",
              "      <td>0.052538</td>\n",
              "      <td>0.309547</td>\n",
              "      <td>-0.126758</td>\n",
              "      <td>-0.233526</td>\n",
              "      <td>0.444934</td>\n",
              "      <td>0.095093</td>\n",
              "      <td>0.026713</td>\n",
              "      <td>0.005003</td>\n",
              "      <td>81.75</td>\n",
              "      <td>0.0</td>\n",
              "    </tr>\n",
              "    <tr>\n",
              "      <th>3626</th>\n",
              "      <td>3102</td>\n",
              "      <td>-0.912541</td>\n",
              "      <td>0.926385</td>\n",
              "      <td>1.894614</td>\n",
              "      <td>0.552219</td>\n",
              "      <td>0.097420</td>\n",
              "      <td>-0.165988</td>\n",
              "      <td>0.981897</td>\n",
              "      <td>-0.319226</td>\n",
              "      <td>-0.242967</td>\n",
              "      <td>...</td>\n",
              "      <td>-0.071637</td>\n",
              "      <td>0.072628</td>\n",
              "      <td>-0.276528</td>\n",
              "      <td>0.555550</td>\n",
              "      <td>-0.022486</td>\n",
              "      <td>-0.599783</td>\n",
              "      <td>-0.382396</td>\n",
              "      <td>-0.116394</td>\n",
              "      <td>50.58</td>\n",
              "      <td>0.0</td>\n",
              "    </tr>\n",
              "    <tr>\n",
              "      <th>1158</th>\n",
              "      <td>905</td>\n",
              "      <td>-6.169664</td>\n",
              "      <td>6.118940</td>\n",
              "      <td>-1.667775</td>\n",
              "      <td>-1.206991</td>\n",
              "      <td>-0.021373</td>\n",
              "      <td>-1.208458</td>\n",
              "      <td>2.184989</td>\n",
              "      <td>-1.512188</td>\n",
              "      <td>6.450992</td>\n",
              "      <td>...</td>\n",
              "      <td>-1.127086</td>\n",
              "      <td>0.261435</td>\n",
              "      <td>0.136166</td>\n",
              "      <td>0.413380</td>\n",
              "      <td>0.666632</td>\n",
              "      <td>-0.530568</td>\n",
              "      <td>2.464962</td>\n",
              "      <td>0.365892</td>\n",
              "      <td>0.89</td>\n",
              "      <td>0.0</td>\n",
              "    </tr>\n",
              "    <tr>\n",
              "      <th>541</th>\n",
              "      <td>406</td>\n",
              "      <td>-2.312227</td>\n",
              "      <td>1.951992</td>\n",
              "      <td>-1.609851</td>\n",
              "      <td>3.997906</td>\n",
              "      <td>-0.522188</td>\n",
              "      <td>-1.426545</td>\n",
              "      <td>-2.537387</td>\n",
              "      <td>1.391657</td>\n",
              "      <td>-2.770089</td>\n",
              "      <td>...</td>\n",
              "      <td>0.517232</td>\n",
              "      <td>-0.035049</td>\n",
              "      <td>-0.465211</td>\n",
              "      <td>0.320198</td>\n",
              "      <td>0.044519</td>\n",
              "      <td>0.177840</td>\n",
              "      <td>0.261145</td>\n",
              "      <td>-0.143276</td>\n",
              "      <td>0.00</td>\n",
              "      <td>1.0</td>\n",
              "    </tr>\n",
              "    <tr>\n",
              "      <th>623</th>\n",
              "      <td>472</td>\n",
              "      <td>-3.043541</td>\n",
              "      <td>-3.157307</td>\n",
              "      <td>1.088463</td>\n",
              "      <td>2.288644</td>\n",
              "      <td>1.359805</td>\n",
              "      <td>-1.064823</td>\n",
              "      <td>0.325574</td>\n",
              "      <td>-0.067794</td>\n",
              "      <td>-0.270953</td>\n",
              "      <td>...</td>\n",
              "      <td>0.661696</td>\n",
              "      <td>0.435477</td>\n",
              "      <td>1.375966</td>\n",
              "      <td>-0.293803</td>\n",
              "      <td>0.279798</td>\n",
              "      <td>-0.145362</td>\n",
              "      <td>-0.252773</td>\n",
              "      <td>0.035764</td>\n",
              "      <td>529.00</td>\n",
              "      <td>1.0</td>\n",
              "    </tr>\n",
              "  </tbody>\n",
              "</table>\n",
              "<p>5 rows × 31 columns</p>\n",
              "</div>\n",
              "      <button class=\"colab-df-convert\" onclick=\"convertToInteractive('df-fd3bbc2c-f46e-47d5-9dd7-6fe13e1b96ae')\"\n",
              "              title=\"Convert this dataframe to an interactive table.\"\n",
              "              style=\"display:none;\">\n",
              "        \n",
              "  <svg xmlns=\"http://www.w3.org/2000/svg\" height=\"24px\"viewBox=\"0 0 24 24\"\n",
              "       width=\"24px\">\n",
              "    <path d=\"M0 0h24v24H0V0z\" fill=\"none\"/>\n",
              "    <path d=\"M18.56 5.44l.94 2.06.94-2.06 2.06-.94-2.06-.94-.94-2.06-.94 2.06-2.06.94zm-11 1L8.5 8.5l.94-2.06 2.06-.94-2.06-.94L8.5 2.5l-.94 2.06-2.06.94zm10 10l.94 2.06.94-2.06 2.06-.94-2.06-.94-.94-2.06-.94 2.06-2.06.94z\"/><path d=\"M17.41 7.96l-1.37-1.37c-.4-.4-.92-.59-1.43-.59-.52 0-1.04.2-1.43.59L10.3 9.45l-7.72 7.72c-.78.78-.78 2.05 0 2.83L4 21.41c.39.39.9.59 1.41.59.51 0 1.02-.2 1.41-.59l7.78-7.78 2.81-2.81c.8-.78.8-2.07 0-2.86zM5.41 20L4 18.59l7.72-7.72 1.47 1.35L5.41 20z\"/>\n",
              "  </svg>\n",
              "      </button>\n",
              "      \n",
              "  <style>\n",
              "    .colab-df-container {\n",
              "      display:flex;\n",
              "      flex-wrap:wrap;\n",
              "      gap: 12px;\n",
              "    }\n",
              "\n",
              "    .colab-df-convert {\n",
              "      background-color: #E8F0FE;\n",
              "      border: none;\n",
              "      border-radius: 50%;\n",
              "      cursor: pointer;\n",
              "      display: none;\n",
              "      fill: #1967D2;\n",
              "      height: 32px;\n",
              "      padding: 0 0 0 0;\n",
              "      width: 32px;\n",
              "    }\n",
              "\n",
              "    .colab-df-convert:hover {\n",
              "      background-color: #E2EBFA;\n",
              "      box-shadow: 0px 1px 2px rgba(60, 64, 67, 0.3), 0px 1px 3px 1px rgba(60, 64, 67, 0.15);\n",
              "      fill: #174EA6;\n",
              "    }\n",
              "\n",
              "    [theme=dark] .colab-df-convert {\n",
              "      background-color: #3B4455;\n",
              "      fill: #D2E3FC;\n",
              "    }\n",
              "\n",
              "    [theme=dark] .colab-df-convert:hover {\n",
              "      background-color: #434B5C;\n",
              "      box-shadow: 0px 1px 3px 1px rgba(0, 0, 0, 0.15);\n",
              "      filter: drop-shadow(0px 1px 2px rgba(0, 0, 0, 0.3));\n",
              "      fill: #FFFFFF;\n",
              "    }\n",
              "  </style>\n",
              "\n",
              "      <script>\n",
              "        const buttonEl =\n",
              "          document.querySelector('#df-fd3bbc2c-f46e-47d5-9dd7-6fe13e1b96ae button.colab-df-convert');\n",
              "        buttonEl.style.display =\n",
              "          google.colab.kernel.accessAllowed ? 'block' : 'none';\n",
              "\n",
              "        async function convertToInteractive(key) {\n",
              "          const element = document.querySelector('#df-fd3bbc2c-f46e-47d5-9dd7-6fe13e1b96ae');\n",
              "          const dataTable =\n",
              "            await google.colab.kernel.invokeFunction('convertToInteractive',\n",
              "                                                     [key], {});\n",
              "          if (!dataTable) return;\n",
              "\n",
              "          const docLinkHtml = 'Like what you see? Visit the ' +\n",
              "            '<a target=\"_blank\" href=https://colab.research.google.com/notebooks/data_table.ipynb>data table notebook</a>'\n",
              "            + ' to learn more about interactive tables.';\n",
              "          element.innerHTML = '';\n",
              "          dataTable['output_type'] = 'display_data';\n",
              "          await google.colab.output.renderOutput(dataTable, element);\n",
              "          const docLink = document.createElement('div');\n",
              "          docLink.innerHTML = docLinkHtml;\n",
              "          element.appendChild(docLink);\n",
              "        }\n",
              "      </script>\n",
              "    </div>\n",
              "  </div>\n",
              "  "
            ],
            "text/plain": [
              "      Time        V1        V2        V3        V4        V5        V6  \\\n",
              "3343  2893  1.015376 -0.859323  0.175692 -1.303424 -0.675609  0.156803   \n",
              "3626  3102 -0.912541  0.926385  1.894614  0.552219  0.097420 -0.165988   \n",
              "1158   905 -6.169664  6.118940 -1.667775 -1.206991 -0.021373 -1.208458   \n",
              "541    406 -2.312227  1.951992 -1.609851  3.997906 -0.522188 -1.426545   \n",
              "623    472 -3.043541 -3.157307  1.088463  2.288644  1.359805 -1.064823   \n",
              "\n",
              "            V7        V8        V9  ...       V21       V22       V23  \\\n",
              "3343 -0.421449  0.266230  1.630526  ...  0.052538  0.309547 -0.126758   \n",
              "3626  0.981897 -0.319226 -0.242967  ... -0.071637  0.072628 -0.276528   \n",
              "1158  2.184989 -1.512188  6.450992  ... -1.127086  0.261435  0.136166   \n",
              "541  -2.537387  1.391657 -2.770089  ...  0.517232 -0.035049 -0.465211   \n",
              "623   0.325574 -0.067794 -0.270953  ...  0.661696  0.435477  1.375966   \n",
              "\n",
              "           V24       V25       V26       V27       V28  Amount  Class  \n",
              "3343 -0.233526  0.444934  0.095093  0.026713  0.005003   81.75    0.0  \n",
              "3626  0.555550 -0.022486 -0.599783 -0.382396 -0.116394   50.58    0.0  \n",
              "1158  0.413380  0.666632 -0.530568  2.464962  0.365892    0.89    0.0  \n",
              "541   0.320198  0.044519  0.177840  0.261145 -0.143276    0.00    1.0  \n",
              "623  -0.293803  0.279798 -0.145362 -0.252773  0.035764  529.00    1.0  \n",
              "\n",
              "[5 rows x 31 columns]"
            ]
          },
          "execution_count": 18,
          "metadata": {},
          "output_type": "execute_result"
        }
      ],
      "source": [
        "new_dataset.tail()"
      ]
    },
    {
      "cell_type": "code",
      "execution_count": null,
      "metadata": {
        "colab": {
          "base_uri": "https://localhost:8080/"
        },
        "id": "bFsRcj0gX-3M",
        "outputId": "42f469b1-00a3-4cbf-94ab-5aa8e4cea0d5"
      },
      "outputs": [
        {
          "data": {
            "text/plain": [
              "0.0    492\n",
              "1.0      2\n",
              "Name: Class, dtype: int64"
            ]
          },
          "execution_count": 19,
          "metadata": {},
          "output_type": "execute_result"
        }
      ],
      "source": [
        "new_dataset['Class'].value_counts()"
      ]
    },
    {
      "cell_type": "code",
      "execution_count": null,
      "metadata": {
        "colab": {
          "base_uri": "https://localhost:8080/",
          "height": 237
        },
        "id": "jan1xMeWYLrM",
        "outputId": "f9492e7d-fee1-4b8a-9cbb-901cc305281f"
      },
      "outputs": [
        {
          "data": {
            "text/html": [
              "\n",
              "  <div id=\"df-92be2196-4a0e-434a-92b5-7bf6b0558717\">\n",
              "    <div class=\"colab-df-container\">\n",
              "      <div>\n",
              "<style scoped>\n",
              "    .dataframe tbody tr th:only-of-type {\n",
              "        vertical-align: middle;\n",
              "    }\n",
              "\n",
              "    .dataframe tbody tr th {\n",
              "        vertical-align: top;\n",
              "    }\n",
              "\n",
              "    .dataframe thead th {\n",
              "        text-align: right;\n",
              "    }\n",
              "</style>\n",
              "<table border=\"1\" class=\"dataframe\">\n",
              "  <thead>\n",
              "    <tr style=\"text-align: right;\">\n",
              "      <th></th>\n",
              "      <th>Time</th>\n",
              "      <th>V1</th>\n",
              "      <th>V2</th>\n",
              "      <th>V3</th>\n",
              "      <th>V4</th>\n",
              "      <th>V5</th>\n",
              "      <th>V6</th>\n",
              "      <th>V7</th>\n",
              "      <th>V8</th>\n",
              "      <th>V9</th>\n",
              "      <th>...</th>\n",
              "      <th>V20</th>\n",
              "      <th>V21</th>\n",
              "      <th>V22</th>\n",
              "      <th>V23</th>\n",
              "      <th>V24</th>\n",
              "      <th>V25</th>\n",
              "      <th>V26</th>\n",
              "      <th>V27</th>\n",
              "      <th>V28</th>\n",
              "      <th>Amount</th>\n",
              "    </tr>\n",
              "    <tr>\n",
              "      <th>Class</th>\n",
              "      <th></th>\n",
              "      <th></th>\n",
              "      <th></th>\n",
              "      <th></th>\n",
              "      <th></th>\n",
              "      <th></th>\n",
              "      <th></th>\n",
              "      <th></th>\n",
              "      <th></th>\n",
              "      <th></th>\n",
              "      <th></th>\n",
              "      <th></th>\n",
              "      <th></th>\n",
              "      <th></th>\n",
              "      <th></th>\n",
              "      <th></th>\n",
              "      <th></th>\n",
              "      <th></th>\n",
              "      <th></th>\n",
              "      <th></th>\n",
              "      <th></th>\n",
              "    </tr>\n",
              "  </thead>\n",
              "  <tbody>\n",
              "    <tr>\n",
              "      <th>0.0</th>\n",
              "      <td>1628.630081</td>\n",
              "      <td>-0.321977</td>\n",
              "      <td>0.250549</td>\n",
              "      <td>0.825421</td>\n",
              "      <td>-0.002156</td>\n",
              "      <td>-0.048245</td>\n",
              "      <td>0.033366</td>\n",
              "      <td>0.059575</td>\n",
              "      <td>-0.020183</td>\n",
              "      <td>0.060275</td>\n",
              "      <td>...</td>\n",
              "      <td>0.075089</td>\n",
              "      <td>0.020766</td>\n",
              "      <td>-0.103889</td>\n",
              "      <td>-0.074057</td>\n",
              "      <td>-0.001752</td>\n",
              "      <td>0.115885</td>\n",
              "      <td>-0.002751</td>\n",
              "      <td>0.043747</td>\n",
              "      <td>0.017495</td>\n",
              "      <td>64.68252</td>\n",
              "    </tr>\n",
              "    <tr>\n",
              "      <th>1.0</th>\n",
              "      <td>439.000000</td>\n",
              "      <td>-2.677884</td>\n",
              "      <td>-0.602658</td>\n",
              "      <td>-0.260694</td>\n",
              "      <td>3.143275</td>\n",
              "      <td>0.418809</td>\n",
              "      <td>-1.245684</td>\n",
              "      <td>-1.105907</td>\n",
              "      <td>0.661932</td>\n",
              "      <td>-1.520521</td>\n",
              "      <td>...</td>\n",
              "      <td>1.114625</td>\n",
              "      <td>0.589464</td>\n",
              "      <td>0.200214</td>\n",
              "      <td>0.455377</td>\n",
              "      <td>0.013198</td>\n",
              "      <td>0.162159</td>\n",
              "      <td>0.016239</td>\n",
              "      <td>0.004186</td>\n",
              "      <td>-0.053756</td>\n",
              "      <td>264.50000</td>\n",
              "    </tr>\n",
              "  </tbody>\n",
              "</table>\n",
              "<p>2 rows × 30 columns</p>\n",
              "</div>\n",
              "      <button class=\"colab-df-convert\" onclick=\"convertToInteractive('df-92be2196-4a0e-434a-92b5-7bf6b0558717')\"\n",
              "              title=\"Convert this dataframe to an interactive table.\"\n",
              "              style=\"display:none;\">\n",
              "        \n",
              "  <svg xmlns=\"http://www.w3.org/2000/svg\" height=\"24px\"viewBox=\"0 0 24 24\"\n",
              "       width=\"24px\">\n",
              "    <path d=\"M0 0h24v24H0V0z\" fill=\"none\"/>\n",
              "    <path d=\"M18.56 5.44l.94 2.06.94-2.06 2.06-.94-2.06-.94-.94-2.06-.94 2.06-2.06.94zm-11 1L8.5 8.5l.94-2.06 2.06-.94-2.06-.94L8.5 2.5l-.94 2.06-2.06.94zm10 10l.94 2.06.94-2.06 2.06-.94-2.06-.94-.94-2.06-.94 2.06-2.06.94z\"/><path d=\"M17.41 7.96l-1.37-1.37c-.4-.4-.92-.59-1.43-.59-.52 0-1.04.2-1.43.59L10.3 9.45l-7.72 7.72c-.78.78-.78 2.05 0 2.83L4 21.41c.39.39.9.59 1.41.59.51 0 1.02-.2 1.41-.59l7.78-7.78 2.81-2.81c.8-.78.8-2.07 0-2.86zM5.41 20L4 18.59l7.72-7.72 1.47 1.35L5.41 20z\"/>\n",
              "  </svg>\n",
              "      </button>\n",
              "      \n",
              "  <style>\n",
              "    .colab-df-container {\n",
              "      display:flex;\n",
              "      flex-wrap:wrap;\n",
              "      gap: 12px;\n",
              "    }\n",
              "\n",
              "    .colab-df-convert {\n",
              "      background-color: #E8F0FE;\n",
              "      border: none;\n",
              "      border-radius: 50%;\n",
              "      cursor: pointer;\n",
              "      display: none;\n",
              "      fill: #1967D2;\n",
              "      height: 32px;\n",
              "      padding: 0 0 0 0;\n",
              "      width: 32px;\n",
              "    }\n",
              "\n",
              "    .colab-df-convert:hover {\n",
              "      background-color: #E2EBFA;\n",
              "      box-shadow: 0px 1px 2px rgba(60, 64, 67, 0.3), 0px 1px 3px 1px rgba(60, 64, 67, 0.15);\n",
              "      fill: #174EA6;\n",
              "    }\n",
              "\n",
              "    [theme=dark] .colab-df-convert {\n",
              "      background-color: #3B4455;\n",
              "      fill: #D2E3FC;\n",
              "    }\n",
              "\n",
              "    [theme=dark] .colab-df-convert:hover {\n",
              "      background-color: #434B5C;\n",
              "      box-shadow: 0px 1px 3px 1px rgba(0, 0, 0, 0.15);\n",
              "      filter: drop-shadow(0px 1px 2px rgba(0, 0, 0, 0.3));\n",
              "      fill: #FFFFFF;\n",
              "    }\n",
              "  </style>\n",
              "\n",
              "      <script>\n",
              "        const buttonEl =\n",
              "          document.querySelector('#df-92be2196-4a0e-434a-92b5-7bf6b0558717 button.colab-df-convert');\n",
              "        buttonEl.style.display =\n",
              "          google.colab.kernel.accessAllowed ? 'block' : 'none';\n",
              "\n",
              "        async function convertToInteractive(key) {\n",
              "          const element = document.querySelector('#df-92be2196-4a0e-434a-92b5-7bf6b0558717');\n",
              "          const dataTable =\n",
              "            await google.colab.kernel.invokeFunction('convertToInteractive',\n",
              "                                                     [key], {});\n",
              "          if (!dataTable) return;\n",
              "\n",
              "          const docLinkHtml = 'Like what you see? Visit the ' +\n",
              "            '<a target=\"_blank\" href=https://colab.research.google.com/notebooks/data_table.ipynb>data table notebook</a>'\n",
              "            + ' to learn more about interactive tables.';\n",
              "          element.innerHTML = '';\n",
              "          dataTable['output_type'] = 'display_data';\n",
              "          await google.colab.output.renderOutput(dataTable, element);\n",
              "          const docLink = document.createElement('div');\n",
              "          docLink.innerHTML = docLinkHtml;\n",
              "          element.appendChild(docLink);\n",
              "        }\n",
              "      </script>\n",
              "    </div>\n",
              "  </div>\n",
              "  "
            ],
            "text/plain": [
              "              Time        V1        V2        V3        V4        V5  \\\n",
              "Class                                                                  \n",
              "0.0    1628.630081 -0.321977  0.250549  0.825421 -0.002156 -0.048245   \n",
              "1.0     439.000000 -2.677884 -0.602658 -0.260694  3.143275  0.418809   \n",
              "\n",
              "             V6        V7        V8        V9  ...       V20       V21  \\\n",
              "Class                                          ...                       \n",
              "0.0    0.033366  0.059575 -0.020183  0.060275  ...  0.075089  0.020766   \n",
              "1.0   -1.245684 -1.105907  0.661932 -1.520521  ...  1.114625  0.589464   \n",
              "\n",
              "            V22       V23       V24       V25       V26       V27       V28  \\\n",
              "Class                                                                         \n",
              "0.0   -0.103889 -0.074057 -0.001752  0.115885 -0.002751  0.043747  0.017495   \n",
              "1.0    0.200214  0.455377  0.013198  0.162159  0.016239  0.004186 -0.053756   \n",
              "\n",
              "          Amount  \n",
              "Class             \n",
              "0.0     64.68252  \n",
              "1.0    264.50000  \n",
              "\n",
              "[2 rows x 30 columns]"
            ]
          },
          "execution_count": 20,
          "metadata": {},
          "output_type": "execute_result"
        }
      ],
      "source": [
        "new_dataset.groupby('Class').mean()"
      ]
    },
    {
      "cell_type": "markdown",
      "metadata": {
        "id": "wbe0g12oYhyK"
      },
      "source": [
        "Splitting the data into Features & Targets"
      ]
    },
    {
      "cell_type": "code",
      "execution_count": null,
      "metadata": {
        "id": "oiC0OOyUYUoD"
      },
      "outputs": [],
      "source": [
        "X = new_dataset.drop(columns='Class', axis=1)\n",
        "Y = new_dataset['Class']"
      ]
    },
    {
      "cell_type": "code",
      "execution_count": null,
      "metadata": {
        "colab": {
          "base_uri": "https://localhost:8080/"
        },
        "id": "9u7wbWqzYyrI",
        "outputId": "f6ddb5b3-dd27-4404-8e02-436fc78e1a2f"
      },
      "outputs": [
        {
          "name": "stdout",
          "output_type": "stream",
          "text": [
            "      Time        V1        V2        V3        V4        V5        V6  \\\n",
            "32      26 -0.529912  0.873892  1.347247  0.145457  0.414209  0.100223   \n",
            "3217  2792 -1.888378 -0.520140  2.531382 -0.493778 -0.152161 -1.113189   \n",
            "3176  2749 -0.624780  1.016347  1.669072  1.043474 -0.597883  0.065141   \n",
            "716    539 -0.420050  1.034648  1.565850 -0.029643 -0.054336 -0.907983   \n",
            "3709  3178  1.158620  0.135117  0.498721  0.460069 -0.230492 -0.190612   \n",
            "...    ...       ...       ...       ...       ...       ...       ...   \n",
            "3343  2893  1.015376 -0.859323  0.175692 -1.303424 -0.675609  0.156803   \n",
            "3626  3102 -0.912541  0.926385  1.894614  0.552219  0.097420 -0.165988   \n",
            "1158   905 -6.169664  6.118940 -1.667775 -1.206991 -0.021373 -1.208458   \n",
            "541    406 -2.312227  1.951992 -1.609851  3.997906 -0.522188 -1.426545   \n",
            "623    472 -3.043541 -3.157307  1.088463  2.288644  1.359805 -1.064823   \n",
            "\n",
            "            V7        V8        V9  ...       V20       V21       V22  \\\n",
            "32    0.711206  0.176066 -0.286717  ... -0.290348  0.046949  0.208105   \n",
            "3217 -0.237834  0.079236  0.513492  ... -0.040859  0.061450  0.385022   \n",
            "3176  0.585206 -0.095099 -0.476078  ...  0.049280 -0.042655  0.030040   \n",
            "716   0.688436 -0.063128 -0.389635  ...  0.095869 -0.228282 -0.598231   \n",
            "3709 -0.098533  0.070173 -0.240326  ... -0.088251 -0.171668 -0.510800   \n",
            "...        ...       ...       ...  ...       ...       ...       ...   \n",
            "3343 -0.421449  0.266230  1.630526  ... -0.065361  0.052538  0.309547   \n",
            "3626  0.981897 -0.319226 -0.242967  ... -0.106438 -0.071637  0.072628   \n",
            "1158  2.184989 -1.512188  6.450992  ...  4.843083 -1.127086  0.261435   \n",
            "541  -2.537387  1.391657 -2.770089  ...  0.126911  0.517232 -0.035049   \n",
            "623   0.325574 -0.067794 -0.270953  ...  2.102339  0.661696  0.435477   \n",
            "\n",
            "           V23       V24       V25       V26       V27       V28  Amount  \n",
            "32   -0.185548  0.001031  0.098816 -0.552904 -0.073288  0.023307    6.14  \n",
            "3217 -0.330148  0.817943  0.216878  1.031502  0.247833  0.082659  100.00  \n",
            "3176 -0.071507  0.592500 -0.342625  0.413435 -0.243781  0.112628   64.36  \n",
            "716  -0.023081  0.360199 -0.194316  0.071640  0.265159  0.121071    1.29  \n",
            "3709  0.144422  0.016907  0.116477  0.105610 -0.017031  0.007138    9.99  \n",
            "...        ...       ...       ...       ...       ...       ...     ...  \n",
            "3343 -0.126758 -0.233526  0.444934  0.095093  0.026713  0.005003   81.75  \n",
            "3626 -0.276528  0.555550 -0.022486 -0.599783 -0.382396 -0.116394   50.58  \n",
            "1158  0.136166  0.413380  0.666632 -0.530568  2.464962  0.365892    0.89  \n",
            "541  -0.465211  0.320198  0.044519  0.177840  0.261145 -0.143276    0.00  \n",
            "623   1.375966 -0.293803  0.279798 -0.145362 -0.252773  0.035764  529.00  \n",
            "\n",
            "[494 rows x 30 columns]\n"
          ]
        }
      ],
      "source": [
        "print(X)"
      ]
    },
    {
      "cell_type": "code",
      "execution_count": null,
      "metadata": {
        "colab": {
          "base_uri": "https://localhost:8080/"
        },
        "id": "EHnRPzZvYz-F",
        "outputId": "2fdad445-db78-43fb-e3d1-ddbea39f8d49"
      },
      "outputs": [
        {
          "name": "stdout",
          "output_type": "stream",
          "text": [
            "32      0.0\n",
            "3217    0.0\n",
            "3176    0.0\n",
            "716     0.0\n",
            "3709    0.0\n",
            "       ... \n",
            "3343    0.0\n",
            "3626    0.0\n",
            "1158    0.0\n",
            "541     1.0\n",
            "623     1.0\n",
            "Name: Class, Length: 494, dtype: float64\n"
          ]
        }
      ],
      "source": [
        "print(Y)"
      ]
    },
    {
      "cell_type": "markdown",
      "metadata": {
        "id": "78wEbV41Y6j3"
      },
      "source": [
        "Split the data into Training data & Testing Data"
      ]
    },
    {
      "cell_type": "code",
      "execution_count": null,
      "metadata": {
        "id": "FrsqqwT0Y3n5"
      },
      "outputs": [],
      "source": [
        "X_train, X_test, Y_train, Y_test = train_test_split(X, Y, test_size=0.2, stratify=Y, random_state=2)"
      ]
    },
    {
      "cell_type": "code",
      "execution_count": null,
      "metadata": {
        "colab": {
          "base_uri": "https://localhost:8080/"
        },
        "id": "FUmwXz99ZuvK",
        "outputId": "d88de5a0-1cad-451c-815f-1df002a59905"
      },
      "outputs": [
        {
          "name": "stdout",
          "output_type": "stream",
          "text": [
            "(494, 30) (395, 30) (99, 30)\n"
          ]
        }
      ],
      "source": [
        "print(X.shape, X_train.shape, X_test.shape)"
      ]
    },
    {
      "cell_type": "markdown",
      "metadata": {
        "id": "aowgjqbeZ7d1"
      },
      "source": [
        "Model Training"
      ]
    },
    {
      "cell_type": "markdown",
      "metadata": {
        "id": "i0NkjaxyZ96E"
      },
      "source": [
        "Logistic Regression"
      ]
    },
    {
      "cell_type": "code",
      "execution_count": null,
      "metadata": {
        "id": "i0HHd1v8Z2Mq"
      },
      "outputs": [],
      "source": [
        "model = LogisticRegression()"
      ]
    },
    {
      "cell_type": "code",
      "execution_count": null,
      "metadata": {
        "id": "_rshSouvaGrv"
      },
      "outputs": [],
      "source": [
        "# training the Logistic Regression Model with Training Data\n",
        "model.fit(X_train, Y_train)\n",
        "LogisticRegression(solver='lbfgs', max_iter=100)"
      ]
    },
    {
      "cell_type": "markdown",
      "metadata": {
        "id": "H9FYWyKjalvC"
      },
      "source": [
        "Model Evaluation"
      ]
    },
    {
      "cell_type": "markdown",
      "metadata": {
        "id": "O6O6kbwYaoxH"
      },
      "source": [
        "Accuracy Score"
      ]
    },
    {
      "cell_type": "code",
      "execution_count": null,
      "metadata": {
        "id": "pC2kCJhOaage"
      },
      "outputs": [],
      "source": [
        "# accuracy on training data\n",
        "X_train_prediction = model.predict(X_train)\n",
        "training_data_accuracy = accuracy_score(X_train_prediction, Y_train)"
      ]
    },
    {
      "cell_type": "code",
      "execution_count": null,
      "metadata": {
        "colab": {
          "base_uri": "https://localhost:8080/"
        },
        "id": "Ijq6gAevbDwm",
        "outputId": "7f0e204a-25a8-437b-f1e9-f755a023b45b"
      },
      "outputs": [
        {
          "name": "stdout",
          "output_type": "stream",
          "text": [
            "Accuracy on Training data :  1.0\n"
          ]
        }
      ],
      "source": [
        "print('Accuracy on Training data : ', training_data_accuracy)"
      ]
    },
    {
      "cell_type": "code",
      "execution_count": null,
      "metadata": {
        "id": "tryJUs6mbJM7"
      },
      "outputs": [],
      "source": [
        "# accuracy on test data\n",
        "X_test_prediction = model.predict(X_test)\n",
        "test_data_accuracy = accuracy_score(X_test_prediction, Y_test)"
      ]
    },
    {
      "cell_type": "code",
      "execution_count": null,
      "metadata": {
        "colab": {
          "base_uri": "https://localhost:8080/"
        },
        "id": "lxEuN24ib3hS",
        "outputId": "dd0b5bc3-3a10-4192-ce5d-d46930cb40e1"
      },
      "outputs": [
        {
          "name": "stdout",
          "output_type": "stream",
          "text": [
            "Accuracy score on Test Data :  1.0\n"
          ]
        }
      ],
      "source": [
        "print('Accuracy score on Test Data : ', test_data_accuracy)"
      ]
    }
  ],
  "metadata": {
    "colab": {
      "provenance": [],
      "include_colab_link": true
    },
    "kernelspec": {
      "display_name": "Python 3",
      "name": "python3"
    },
    "language_info": {
      "name": "python"
    }
  },
  "nbformat": 4,
  "nbformat_minor": 0
}